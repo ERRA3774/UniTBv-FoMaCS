{
 "cells": [
  {
   "cell_type": "code",
   "execution_count": 1,
   "metadata": {},
   "outputs": [
    {
     "name": "stdout",
     "output_type": "stream",
     "text": [
      "Name:  Ana , Salary:  2000\n",
      "Name:  Alexandru , Salary:  5000\n",
      "Total Employee 2\n"
     ]
    }
   ],
   "source": [
    "# the class statement creates a new class definition\n",
    "# the name of the class follows the keyword class and it is followed by a colon\n",
    "class Employee:\n",
    "    # common base class for all employees\n",
    "\n",
    "    # the variable empCount is a class variable whose value \n",
    "    # is shared among all the instances of this class\n",
    "    empCount = 0\n",
    "    \n",
    "    # this below is the class constructor or initialization method \n",
    "    # that Python calls when you create a new instance of this class\n",
    "    def __init__(self, name, salary):\n",
    "        self.name = name\n",
    "        self.salary = salary\n",
    "        Employee.empCount += 1\n",
    "   \n",
    "    # the first argument to each method is self\n",
    "    def displayCount(self):\n",
    "        print (\"Total Employee %d\" % Employee.empCount)\n",
    "\n",
    "    def displayEmployee(self):\n",
    "        print (\"Name: \", self.name,  \", Salary: \", self.salary)\n",
    "\n",
    "\n",
    "#This would create first object of Employee class\"\n",
    "emp1 = Employee(\"Ana\", 2000)\n",
    "#This would create second object of Employee class\"\n",
    "emp2 = Employee(\"Alexandru\", 5000)\n",
    "emp1.displayEmployee()\n",
    "emp2.displayEmployee()\n",
    "print (\"Total Employee %d\" % Employee.empCount)"
   ]
  },
  {
   "cell_type": "code",
   "execution_count": 2,
   "metadata": {},
   "outputs": [
    {
     "name": "stdout",
     "output_type": "stream",
     "text": [
      "Name:  Ana , Salary:  2000\n",
      "Name:  Raisa , Salary:  7000\n"
     ]
    }
   ],
   "source": [
    "emp1.displayEmployee()\n",
    "# add a new 'salary' attribute\n",
    "emp1.salary = 7000 \n",
    "# modify 'name' attribute\n",
    "emp1.name = 'Raisa'  \n",
    "emp1.displayEmployee()"
   ]
  },
  {
   "cell_type": "code",
   "execution_count": 3,
   "metadata": {},
   "outputs": [
    {
     "name": "stdout",
     "output_type": "stream",
     "text": [
      "Salary attribute exists:  True\n",
      "Salary:  7000\n",
      "New salary:  6000\n"
     ]
    }
   ],
   "source": [
    "# Returns true if 'salary' attribute exists\n",
    "print(\"Salary attribute exists: \", hasattr(emp1, 'salary')) \n",
    "# Returns value of 'salary' attribute\n",
    "print(\"Salary: \",getattr(emp1, 'salary')) \n",
    "# Set attribute 'salary' at 6000\n",
    "setattr(emp1, 'salary', 6000) \n",
    "# Returns value of 'salary' attribute\n",
    "print(\"New salary: \", getattr(emp1, 'salary'))\n",
    "# Delete attribute 'salary'\n",
    "# delattr(emp1, 'salary')    "
   ]
  },
  {
   "cell_type": "code",
   "execution_count": 17,
   "metadata": {},
   "outputs": [
    {
     "name": "stdout",
     "output_type": "stream",
     "text": [
      "599696157888 599696157888 599696157888\n",
      "Point destroyed\n"
     ]
    }
   ],
   "source": [
    "# Python deletes unneeded objects (built-in types or class instances)\n",
    "# automatically to free the memory space\n",
    "# the process by which Python periodically reclaims blocks of memory\n",
    "# that no longer are in use is termed as Garbage Collection\n",
    "\n",
    "class Point:\n",
    "    def __init__(self, x=0, y=0):\n",
    "        self.x = x\n",
    "        self.y = y\n",
    "    \n",
    "    # the destructor is invoked when the instance \n",
    "    # is about to be destroyed\n",
    "    # this destructor below prints the class name of an\n",
    "    # instance that is about to be destroyed\n",
    "    def __del__(self):\n",
    "        class_name = self.__class__.__name__\n",
    "        print (class_name, \"destroyed\")\n",
    "\n",
    "pt1 = Point()\n",
    "pt2 = pt1\n",
    "pt3 = pt1\n",
    "# This below prints the ids of the objects\n",
    "print (id(pt1), id(pt2), id(pt3))   \n",
    "del pt1\n",
    "del pt2\n",
    "del pt3"
   ]
  },
  {
   "cell_type": "code",
   "execution_count": 21,
   "metadata": {},
   "outputs": [
    {
     "name": "stdout",
     "output_type": "stream",
     "text": [
      "Calling child constructor\n",
      "Calling child method\n",
      "Calling parent method\n",
      "Parent attribute : 200\n",
      "---Override a method---\n",
      "Calling child method\n"
     ]
    }
   ],
   "source": [
    "# Class inheritance\n",
    "\n",
    "# define parent class\n",
    "class Parent:        \n",
    "    parentAttr = 100\n",
    "    \n",
    "    def __init__(self):\n",
    "        print (\"Calling parent constructor\")\n",
    "\n",
    "    def parentMethod(self):\n",
    "        print ('Calling parent method')\n",
    "\n",
    "    def setAttr(self, attr):\n",
    "        Parent.parentAttr = attr\n",
    "\n",
    "    def getAttr(self):\n",
    "        print (\"Parent attribute :\", Parent.parentAttr)\n",
    "        \n",
    "    # overriding methods\n",
    "    def myMethod(self):\n",
    "        print ('Calling parent method')\n",
    "\n",
    "# define child class\n",
    "class Child(Parent): \n",
    "    def __init__(self):\n",
    "        print (\"Calling child constructor\")\n",
    "\n",
    "    def childMethod(self):\n",
    "        print ('Calling child method')\n",
    "     \n",
    "    # overriding methods\n",
    "    def myMethod(self):\n",
    "        print ('Calling child method')\n",
    "\n",
    "c = Child()          # instance of child\n",
    "c.childMethod()      # child calls its method\n",
    "c.parentMethod()     # calls parent's method\n",
    "c.setAttr(200)       # again call parent's method\n",
    "c.getAttr()          # again call parent's method\n",
    "\n",
    "# overriding methods\n",
    "print(\"---Override a method---\")\n",
    "c.myMethod()         # child calls overridden method"
   ]
  },
  {
   "cell_type": "code",
   "execution_count": 22,
   "metadata": {},
   "outputs": [
    {
     "name": "stdout",
     "output_type": "stream",
     "text": [
      "1\n",
      "2\n"
     ]
    },
    {
     "ename": "AttributeError",
     "evalue": "'JustCounter' object has no attribute '__secretCount'",
     "output_type": "error",
     "traceback": [
      "\u001b[1;31m---------------------------------------------------------------------------\u001b[0m",
      "\u001b[1;31mAttributeError\u001b[0m                            Traceback (most recent call last)",
      "\u001b[1;32m<ipython-input-22-d7786fc99992>\u001b[0m in \u001b[0;36m<module>\u001b[1;34m()\u001b[0m\n\u001b[0;32m     10\u001b[0m \u001b[0mcounter\u001b[0m\u001b[1;33m.\u001b[0m\u001b[0mcount\u001b[0m\u001b[1;33m(\u001b[0m\u001b[1;33m)\u001b[0m\u001b[1;33m\u001b[0m\u001b[0m\n\u001b[0;32m     11\u001b[0m \u001b[0mcounter\u001b[0m\u001b[1;33m.\u001b[0m\u001b[0mcount\u001b[0m\u001b[1;33m(\u001b[0m\u001b[1;33m)\u001b[0m\u001b[1;33m\u001b[0m\u001b[0m\n\u001b[1;32m---> 12\u001b[1;33m \u001b[0mprint\u001b[0m\u001b[1;33m(\u001b[0m\u001b[0mcounter\u001b[0m\u001b[1;33m.\u001b[0m\u001b[0m__secretCount\u001b[0m\u001b[1;33m)\u001b[0m\u001b[1;33m\u001b[0m\u001b[0m\n\u001b[0m",
      "\u001b[1;31mAttributeError\u001b[0m: 'JustCounter' object has no attribute '__secretCount'"
     ]
    }
   ],
   "source": [
    "# Data hiding\n",
    "class JustCounter:\n",
    "    # the attributes named with a double underscore prefix\n",
    "    # will not be directly visible to outsiders\n",
    "    __secretCount = 0\n",
    "  \n",
    "    def count(self):\n",
    "        self.__secretCount += 1\n",
    "        print(self.__secretCount)\n",
    "\n",
    "counter = JustCounter()\n",
    "counter.count()\n",
    "counter.count()\n",
    "print(counter.__secretCount)"
   ]
  },
  {
   "cell_type": "code",
   "execution_count": 23,
   "metadata": {},
   "outputs": [
    {
     "name": "stdout",
     "output_type": "stream",
     "text": [
      "2\n"
     ]
    }
   ],
   "source": [
    "# use this line instead\n",
    "print(counter._JustCounter__secretCount)"
   ]
  }
 ],
 "metadata": {
  "kernelspec": {
   "display_name": "Python 3",
   "language": "python",
   "name": "python3"
  },
  "language_info": {
   "codemirror_mode": {
    "name": "ipython",
    "version": 3
   },
   "file_extension": ".py",
   "mimetype": "text/x-python",
   "name": "python",
   "nbconvert_exporter": "python",
   "pygments_lexer": "ipython3",
   "version": "3.8.3"
  }
 },
 "nbformat": 4,
 "nbformat_minor": 2
}
