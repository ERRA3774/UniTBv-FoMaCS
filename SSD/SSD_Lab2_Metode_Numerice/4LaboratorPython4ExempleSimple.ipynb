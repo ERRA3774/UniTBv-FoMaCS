{
 "cells": [
  {
   "cell_type": "code",
   "execution_count": 5,
   "metadata": {},
   "outputs": [
    {
     "name": "stdout",
     "output_type": "stream",
     "text": [
      "1, 1, 2, 3, 5, 8, "
     ]
    }
   ],
   "source": [
    "# instructiuni repetitive: for, etc. \n",
    "# Fibonacci series:\n",
    "# the sum of two elements defines the next\n",
    "\n",
    "# concepte importante: atribuire multipla\n",
    "\n",
    "# the expressions on the right-hand side are all evaluated first \n",
    "# before any of the assignments take place\n",
    "# the right-hand side expressions are evaluated from the left to the right\n",
    "\n",
    "a, b = 0, 1\n",
    "\n",
    "# any non-zero integer value is true, zero is false\n",
    "# the condition may also be a string or list value, in fact any sequence\n",
    "# anything with a non-zero length is true, empty sequences are false\n",
    "# comparison operators: <, >, ==, <=, >=, !=\n",
    "\n",
    "while b < 10:\n",
    "    #print(b)\n",
    "    print(b, end=', ')\n",
    "    a, b = b, a+b\n",
    "    \n",
    "# the body of the loop is indented - for grouping statements\n",
    "\n",
    "# the keyword argument \"end\" can be used \n",
    "# to end the output with a different string"
   ]
  },
  {
   "cell_type": "code",
   "execution_count": 1,
   "metadata": {},
   "outputs": [
    {
     "name": "stdout",
     "output_type": "stream",
     "text": [
      "Please enter an integer: 0\n",
      "Zero\n"
     ]
    }
   ],
   "source": [
    "x = int(input(\"Please enter an integer: \"))\n",
    "if x < 0:\n",
    "    x = 0\n",
    "    print('Negative changed to zero')\n",
    "elif x == 0:                    # short for \"else if\"\n",
    "    print('Zero')\n",
    "elif x == 1:\n",
    "    print('Single')\n",
    "else:                           # optional      \n",
    "    print('More')"
   ]
  },
  {
   "cell_type": "code",
   "execution_count": 6,
   "metadata": {},
   "outputs": [
    {
     "name": "stdout",
     "output_type": "stream",
     "text": [
      "cat 3\n",
      "window 6\n",
      "door 4\n"
     ]
    }
   ],
   "source": [
    "# Measure some strings:\n",
    "words = ['cat', 'window', 'door']\n",
    "for w in words:\n",
    "    print(w, len(w))"
   ]
  },
  {
   "cell_type": "code",
   "execution_count": 7,
   "metadata": {},
   "outputs": [
    {
     "name": "stdout",
     "output_type": "stream",
     "text": [
      "0\n",
      "1\n",
      "2\n",
      "3\n",
      "4\n"
     ]
    }
   ],
   "source": [
    "for i in range(5):\n",
    "    print(i)\n",
    "    \n",
    "# the given end point is never part of the generated sequence"
   ]
  },
  {
   "cell_type": "code",
   "execution_count": 14,
   "metadata": {},
   "outputs": [
    {
     "name": "stdout",
     "output_type": "stream",
     "text": [
      "0 Mary\n",
      "1 had\n",
      "2 a\n",
      "3 little\n",
      "4 cat\n"
     ]
    }
   ],
   "source": [
    "a = ['Mary', 'had', 'a', 'little', 'cat']\n",
    "for i in range(len(a)):\n",
    "    print(i, a[i])\n",
    "    \n",
    "# the object returned by range() behaves as if it is a list, but in fact it isn't\n",
    "# it is an object which returns the successive items of the desired sequence \n",
    "# when you iterate over it, but it doesn't really make the list,\n",
    "# thus saving space\n",
    "\n",
    "# we say such an object is iterable\n",
    "# the \"for\" statement is an iterator"
   ]
  },
  {
   "cell_type": "code",
   "execution_count": 16,
   "metadata": {},
   "outputs": [
    {
     "data": {
      "text/plain": [
       "[0, 1, 2, 3, 4]"
      ]
     },
     "execution_count": 16,
     "metadata": {},
     "output_type": "execute_result"
    }
   ],
   "source": [
    "list(range(5))\n",
    "# the function \"list()\" is another iterator\n",
    "# it creates lists from iterables"
   ]
  },
  {
   "cell_type": "code",
   "execution_count": 18,
   "metadata": {},
   "outputs": [
    {
     "name": "stdout",
     "output_type": "stream",
     "text": [
      "2 is a prime number\n",
      "3 is a prime number\n",
      "4 equals 2 * 2\n",
      "5 is a prime number\n",
      "6 equals 2 * 3\n",
      "7 is a prime number\n",
      "8 equals 2 * 4\n",
      "9 equals 3 * 3\n"
     ]
    }
   ],
   "source": [
    "# loop which searches for prime numbers\n",
    "for n in range(2, 10):\n",
    "    for x in range(2, n):\n",
    "        if n % x == 0:\n",
    "            print(n, 'equals', x, '*', n//x)\n",
    "            break\n",
    "    else:   # else clause on the \"for\" loop, NOT the \"if\" statement\n",
    "        # loop fell through without finding a factor\n",
    "        print(n, 'is a prime number')\n",
    "\n",
    "# loop statements may have an else clause \n",
    "# it is executed when the loop terminates through exhaustion\n",
    "# of the list (with \"for\") or when the condition \n",
    "# becomes false (with \"while\"), but not when\n",
    "# the loop is terminated by a \"break\" statement"
   ]
  },
  {
   "cell_type": "code",
   "execution_count": 19,
   "metadata": {},
   "outputs": [
    {
     "name": "stdout",
     "output_type": "stream",
     "text": [
      "Found an even number 2\n",
      "Found a number 3\n",
      "Found an even number 4\n",
      "Found a number 5\n",
      "Found an even number 6\n",
      "Found a number 7\n",
      "Found an even number 8\n",
      "Found a number 9\n"
     ]
    }
   ],
   "source": [
    "for num in range(2, 10):\n",
    "    if num % 2 == 0:\n",
    "        print(\"Found an even number\", num)\n",
    "        continue\n",
    "    print(\"Found a number\", num)\n",
    "    \n",
    "# the \"continue\" statement continues \n",
    "# with the next iteration of the loop"
   ]
  },
  {
   "cell_type": "code",
   "execution_count": 32,
   "metadata": {},
   "outputs": [
    {
     "name": "stdout",
     "output_type": "stream",
     "text": [
      "Print a Fibonacci series up to 2000\n",
      "0 1 1 2 3 5 8 13 21 34 55 89 144 233 377 610 987 1597 \n",
      "Print a Fibonacci series up to 50\n",
      "0 1 1 2 3 5 8 13 21 34 \n",
      "Print a Fibonacci series up to 50\n",
      "0 1 1 2 3 5 8 13 21 34 \n",
      "None\n"
     ]
    }
   ],
   "source": [
    "# the keyword \"def\" introduces a function definition\n",
    "# it must be followed by the function name\n",
    "# and the parenthesized list of formal parameters\n",
    "# the statements that form the body of the function are indented\n",
    "\n",
    "def fib(n):    # write Fibonacci series up to n\n",
    "    print(\"Print a Fibonacci series up to\", n)\n",
    "    a, b = 0, 1\n",
    "    while a < n:\n",
    "        print(a, end=' ')\n",
    "        a, b = b, a+b\n",
    "    print()\n",
    "\n",
    "# Now call the function we just defined:\n",
    "fib(2000)\n",
    "fib(50)\n",
    "\n",
    "# even functions without a \"return\" statement do return a value\n",
    "# this value is called \"None\" (it's a built-in name)\n",
    "print(fib(50))"
   ]
  },
  {
   "cell_type": "code",
   "execution_count": 34,
   "metadata": {},
   "outputs": [
    {
     "data": {
      "text/plain": [
       "[0, 1, 1, 2, 3, 5, 8, 13, 21, 34, 55, 89]"
      ]
     },
     "execution_count": 34,
     "metadata": {},
     "output_type": "execute_result"
    }
   ],
   "source": [
    "def fib2(n):  # return Fibonacci series up to n\n",
    "    result = []\n",
    "    a, b = 0, 1\n",
    "    while a < n:\n",
    "        result.append(a)    # calls a method of the list object \"result\"\n",
    "        a, b = b, a+b\n",
    "    return result\n",
    "\n",
    "f100 = fib2(100)    # call it\n",
    "f100                # write the result"
   ]
  },
  {
   "cell_type": "code",
   "execution_count": null,
   "metadata": {},
   "outputs": [],
   "source": [
    "# Coding style \n",
    "# Use 4-space indentation, and no tabs.\n",
    "# Wrap lines so that they don’t exceed 79 characters.\n",
    "# When possible, put comments on a line of their own.\n",
    "# Use spaces around operators and after commas.\n",
    "# Name your classes and functions consistently; \n",
    "# the convention is to use \"CamelCase\" for classes \n",
    "# and \"lower_case_with_underscores\" for functions and methods."
   ]
  }
 ],
 "metadata": {
  "kernelspec": {
   "display_name": "Python 3",
   "language": "python",
   "name": "python3"
  },
  "language_info": {
   "codemirror_mode": {
    "name": "ipython",
    "version": 3
   },
   "file_extension": ".py",
   "mimetype": "text/x-python",
   "name": "python",
   "nbconvert_exporter": "python",
   "pygments_lexer": "ipython3",
   "version": "3.8.3"
  }
 },
 "nbformat": 4,
 "nbformat_minor": 2
}
