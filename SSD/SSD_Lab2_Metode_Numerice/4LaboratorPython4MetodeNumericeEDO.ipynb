{
 "cells": [
  {
   "cell_type": "code",
   "execution_count": 9,
   "metadata": {},
   "outputs": [
    {
     "data": {
      "image/png": "[encoded data removed]",
      "text/plain": [
       "<Figure size 432x288 with 1 Axes>"
      ]
     },
     "metadata": {},
     "output_type": "display_data"
    }
   ],
   "source": [
    "import numpy as np\n",
    "import matplotlib.pyplot as plt\n",
    "\n",
    "def ForwardEuler(f, U0, T, n):\n",
    "    # Solve y'=f(y,t), y(0)=U0, with n steps until t=T.\n",
    "    t = np.zeros(n+1)\n",
    "    y = np.zeros(n+1)  # y[k] is the solution at time t[k]\n",
    "    y[0] = U0\n",
    "    t[0] = 0\n",
    "    dt = T/float(n)\n",
    "    \n",
    "  # y[1] = y[0] + dt*f(y[0], t[0])         # pentru two-step\n",
    "  # for k in range(1, n):\n",
    "    \n",
    "    for k in range(n):\n",
    "        t[k+1] = t[k] + dt\n",
    "        y[k+1] = y[k] + dt*f(y[k], t[k])\n",
    "    return y, t\n",
    "\n",
    "def f(y,t):\n",
    "    k = 0.3\n",
    "    dydt = -k * y\n",
    "    return dydt\n",
    "\n",
    "y, t = ForwardEuler(f, U0=5, T=20, n=50)\n",
    "\n",
    "plt.plot(t,y)\n",
    "plt.xlabel('time')\n",
    "plt.ylabel('y(t)')\n",
    "plt.show()"
   ]
  },
  {
   "cell_type": "code",
   "execution_count": null,
   "metadata": {},
   "outputs": [],
   "source": []
  }
 ],
 "metadata": {
  "kernelspec": {
   "display_name": "Python 3",
   "language": "python",
   "name": "python3"
  },
  "language_info": {
   "codemirror_mode": {
    "name": "ipython",
    "version": 3
   },
   "file_extension": ".py",
   "mimetype": "text/x-python",
   "name": "python",
   "nbconvert_exporter": "python",
   "pygments_lexer": "ipython3",
   "version": "3.8.3"
  }
 },
 "nbformat": 4,
 "nbformat_minor": 2
}
